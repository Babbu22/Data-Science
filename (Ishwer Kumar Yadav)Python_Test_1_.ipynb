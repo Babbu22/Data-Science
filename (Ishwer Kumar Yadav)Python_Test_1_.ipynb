{
  "nbformat": 4,
  "nbformat_minor": 0,
  "metadata": {
    "colab": {
      "provenance": []
    },
    "kernelspec": {
      "name": "python3",
      "display_name": "Python 3"
    },
    "language_info": {
      "name": "python"
    }
  },
  "cells": [
    {
      "cell_type": "code",
      "source": [
        "# Name : Ishwer Kumar Yadav"
      ],
      "metadata": {
        "id": "vY8neYt02dOb"
      },
      "execution_count": 72,
      "outputs": []
    },
    {
      "cell_type": "code",
      "source": [
        "### Q1 : Create A Series Using Dict In Pandas."
      ],
      "metadata": {
        "id": "yRakPlMlPSmU"
      },
      "execution_count": 71,
      "outputs": []
    },
    {
      "cell_type": "code",
      "execution_count": 4,
      "metadata": {
        "colab": {
          "base_uri": "https://localhost:8080/"
        },
        "id": "NNZJq7IUOU_T",
        "outputId": "bb1c0ecd-626a-4bf0-92f8-ea19b48ebcde"
      },
      "outputs": [
        {
          "output_type": "stream",
          "name": "stdout",
          "text": [
            "0    1\n",
            "1    2\n",
            "2    3\n",
            "3    4\n",
            "4    5\n",
            "5    6\n",
            "dtype: int64\n"
          ]
        }
      ],
      "source": [
        "import pandas as pd\n",
        "\n",
        "a = [1,2,3,4,5,6]\n",
        "myvar = pd.Series(a)\n",
        "print(myvar)"
      ]
    },
    {
      "cell_type": "code",
      "source": [
        "# Q2 : How To Create A Copy Of The Series In Pandas?"
      ],
      "metadata": {
        "id": "GWppt_y1Of1X"
      },
      "execution_count": 7,
      "outputs": []
    },
    {
      "cell_type": "code",
      "source": [
        "import pandas as pd\n",
        "import numpy as np\n",
        "\n",
        "a = pd.Series([2,3], index=['p','q'])\n",
        "a_copy = a.copy()\n",
        "a_copy\n"
      ],
      "metadata": {
        "colab": {
          "base_uri": "https://localhost:8080/"
        },
        "id": "h7PHfuqpPvHV",
        "outputId": "d4f0921c-65ff-474d-ccf1-2ab71b2d93c4"
      },
      "execution_count": 10,
      "outputs": [
        {
          "output_type": "execute_result",
          "data": {
            "text/plain": [
              "p    2\n",
              "q    3\n",
              "dtype: int64"
            ]
          },
          "metadata": {},
          "execution_count": 10
        }
      ]
    },
    {
      "cell_type": "code",
      "source": [
        "# Q3 : Create a DataFrame using List"
      ],
      "metadata": {
        "id": "WLV6zaklQP-d"
      },
      "execution_count": 11,
      "outputs": []
    },
    {
      "cell_type": "code",
      "source": [
        "import pandas as pd\n",
        "data = {\n",
        "    \"Numbers\":[1,2,3,4,5],\n",
        "    \"Name\":['Danny','Rose','Mandu','Sanju','komal'],\n",
        "    \"City\":['Neples','london','Uganda','New Delhi','Kolkata'],\n",
        "    \"Profession\":['Artist','singer','Manager','Engineer','Painter']\n",
        "}\n",
        "df = pd.DataFrame(data)\n",
        "print(df)"
      ],
      "metadata": {
        "colab": {
          "base_uri": "https://localhost:8080/"
        },
        "id": "5oFi8D4uR_aW",
        "outputId": "d7d8265d-d9d7-49eb-8ef8-57196bfc56dd"
      },
      "execution_count": 21,
      "outputs": [
        {
          "output_type": "stream",
          "name": "stdout",
          "text": [
            "   Numbers   Name       City Profession\n",
            "0        1  Danny     Neples     Artist\n",
            "1        2   Rose     london     singer\n",
            "2        3  Mandu     Uganda    Manager\n",
            "3        4  Sanju  New Delhi   Engineer\n",
            "4        5  komal    Kolkata    Painter\n"
          ]
        }
      ]
    },
    {
      "cell_type": "code",
      "source": [
        "# Q4 : What Are The Different Ways A DataFrame Can Be Created In pandas?\n",
        "# There are various ways to create into DataFrame using pandas given below-\n",
        "# 1. Creating pandas Dataframe using list.\n",
        "# 2. Creating pandas DataFrame from Dist.\n",
        "# 3. Creating Pandas DataFrame with Index.\n",
        "# 4. Creating Pandas DataFrame from list of dicts object\n",
        "# 5. Creating DataFrame from series\n",
        "# 6. Creating DataFrame using Zip() functions"
      ],
      "metadata": {
        "id": "_af4qJgVSexB"
      },
      "execution_count": 22,
      "outputs": []
    },
    {
      "cell_type": "code",
      "source": [
        "# 1. Creating pandas Dataframe using list.\n",
        "import pandas as pd\n",
        "tech = [['Spark',2000, '10days'],\n",
        "        ['Pandas',2500, '15days'],\n",
        "        ]\n",
        "df = pd.DataFrame(tech)\n",
        "print(df)       "
      ],
      "metadata": {
        "colab": {
          "base_uri": "https://localhost:8080/"
        },
        "id": "FCpgksBvYdrJ",
        "outputId": "96ca663e-6ed5-4afa-9692-c155b0c32d33"
      },
      "execution_count": 23,
      "outputs": [
        {
          "output_type": "stream",
          "name": "stdout",
          "text": [
            "        0     1       2\n",
            "0   Spark  2000  10days\n",
            "1  Pandas  2500  15days\n"
          ]
        }
      ]
    },
    {
      "cell_type": "code",
      "source": [
        "# Adding Column & Row labels to the DataFrame\n",
        "columns_name=['Courses','Fee','Duration']\n",
        "row_label = ['a','b']\n",
        "df = pd.DataFrame(tech,columns=columns_name,index=row_label)\n",
        "print(df)"
      ],
      "metadata": {
        "colab": {
          "base_uri": "https://localhost:8080/"
        },
        "id": "SB5kN_gCZEAt",
        "outputId": "fd4db0ff-5e96-4fef-e49d-2f820205fa71"
      },
      "execution_count": 25,
      "outputs": [
        {
          "output_type": "stream",
          "name": "stdout",
          "text": [
            "  Courses   Fee Duration\n",
            "a   Spark  2000   10days\n",
            "b  Pandas  2500   15days\n"
          ]
        }
      ]
    },
    {
      "cell_type": "code",
      "source": [
        "# 2. Creating pandas DataFrame from Dist\n",
        "import pandas as pd\n",
        "tech = {\n",
        "    'Courses':['Spark','Pandas'],\n",
        "    'Fee':[2000,2500],\n",
        "    'Duration':['3 weeks','5 weeks']\n",
        "}\n",
        "df = pd.DataFrame(tech)\n",
        "print(df)"
      ],
      "metadata": {
        "colab": {
          "base_uri": "https://localhost:8080/"
        },
        "id": "nyacNAfNZ9Dx",
        "outputId": "34473a3a-d0a8-4a44-dbec-2194c9f75118"
      },
      "execution_count": 27,
      "outputs": [
        {
          "output_type": "stream",
          "name": "stdout",
          "text": [
            "  Courses   Fee Duration\n",
            "0   Spark  2000  3 weeks\n",
            "1  Pandas  2500  5 weeks\n"
          ]
        }
      ]
    },
    {
      "cell_type": "code",
      "source": [
        "# 3. Creating Pandas DataFrame with Index.\n",
        "tech = {\n",
        "    'courses':['Sparl','Pandas'],\n",
        "    'Fee':['2000','2500'],\n",
        "    'duration':['4weeks','5weeks']\n",
        "}\n",
        "index_label = ['r1','r2']\n",
        "df = pd.DataFrame(tech, index = index_label)\n",
        "print(df)"
      ],
      "metadata": {
        "colab": {
          "base_uri": "https://localhost:8080/"
        },
        "id": "UeoVg_5TcnYL",
        "outputId": "ac992e0d-7a43-4e8f-e619-90f6dcebafdb"
      },
      "execution_count": 28,
      "outputs": [
        {
          "output_type": "stream",
          "name": "stdout",
          "text": [
            "   courses   Fee duration\n",
            "r1   Sparl  2000   4weeks\n",
            "r2  Pandas  2500   5weeks\n"
          ]
        }
      ]
    },
    {
      "cell_type": "code",
      "source": [
        "# 4. Creating Pandas DataFrame from list of dicts object\n",
        "tech = [{'Courses':'Spark','Fee' : 20000,'Duration': '4weeks'},\n",
        "        {'Courses':'Pandas','Fee': 25000, 'Duration': '5weeks'}]\n",
        "df = pd.DataFrame(tech)\n",
        "print(df)        "
      ],
      "metadata": {
        "colab": {
          "base_uri": "https://localhost:8080/"
        },
        "id": "RniB5KZIdaoW",
        "outputId": "bb11805f-05c5-44b8-bfbe-63caa108ce4b"
      },
      "execution_count": 29,
      "outputs": [
        {
          "output_type": "stream",
          "name": "stdout",
          "text": [
            "  Courses    Fee Duration\n",
            "0   Spark  20000   4weeks\n",
            "1  Pandas  25000   5weeks\n"
          ]
        }
      ]
    },
    {
      "cell_type": "code",
      "source": [
        "# 5. Creating DataFrame from series\n",
        "courses = pd.DataFrame(['Spark','pandas'])\n",
        "fees = pd.Series([2000,2500])\n",
        "duration = pd.Series(['4weeks','5weeks'])\n",
        "\n",
        "df=pd.concat([courses,fees,duration],axis=1)\n",
        "print(df)"
      ],
      "metadata": {
        "colab": {
          "base_uri": "https://localhost:8080/"
        },
        "id": "hQRx6IzgeVaU",
        "outputId": "357dacf9-a829-4815-86a4-57334b333276"
      },
      "execution_count": 32,
      "outputs": [
        {
          "output_type": "stream",
          "name": "stdout",
          "text": [
            "        0     0       1\n",
            "0   Spark  2000  4weeks\n",
            "1  pandas  2500  5weeks\n"
          ]
        }
      ]
    },
    {
      "cell_type": "code",
      "source": [
        "# 6. Creating DataFrame using Zip() functions\n",
        "# create lists\n",
        "Courses = ['Spark','Panas']\n",
        "Fee = [20000,25000]\n",
        "Duration = ['30days','40days']\n",
        "\n",
        "#merge lists by using zip()\n",
        "tuples_list = list(zip(Courses, Fee, Duration))\n",
        "df = pd.DataFrame(tuples_list, columns = ['Courses','Fee', 'Duration'])\n",
        "print(df)"
      ],
      "metadata": {
        "colab": {
          "base_uri": "https://localhost:8080/"
        },
        "id": "hvmCAcJYfP46",
        "outputId": "3cbecbc6-b5f7-4e9a-c4f6-dc64d8e5a6da"
      },
      "execution_count": 34,
      "outputs": [
        {
          "output_type": "stream",
          "name": "stdout",
          "text": [
            "  Courses    Fee Duration\n",
            "0   Spark  20000   30days\n",
            "1   Panas  25000   40days\n"
          ]
        }
      ]
    },
    {
      "cell_type": "code",
      "source": [
        "# Q5 : Write a Pandas program to join the two given dataframes along rows"
      ],
      "metadata": {
        "id": "0jSAE-SQho28"
      },
      "execution_count": 35,
      "outputs": []
    },
    {
      "cell_type": "code",
      "source": [
        "import pandas as pd\n",
        "student_data1 = pd.DataFrame({'student_id':['s1','s2','s3','s4'],\n",
        "              'name':['Dinesh','Mahesh','Suresh','kamlesh'],\n",
        "             'marks':[130,235,324,250]})\n",
        "student_data2 = pd.DataFrame({'student_id':['s3','s4','s5','s6'],\n",
        "              'name':['Sulekha','sunetra','Priyanka','beauty'],\n",
        "              'marks':[201,200,198,222]})\n",
        "print(\"Original DataFrames\")\n",
        "print(student_data1)\n",
        "print(\"------------------------------\")\n",
        "print(student_data2)\n",
        "print(\"\\nJoin the said two dataframes along rows:\")\n",
        "print(\"---------------------------------------------\")\n",
        "\n",
        "\n",
        "result_data = pd.concat([student_data1,student_data2])\n",
        "print(result_data)"
      ],
      "metadata": {
        "colab": {
          "base_uri": "https://localhost:8080/"
        },
        "id": "kFnFNwhIh73c",
        "outputId": "8583a078-3a8e-4de6-c27e-5e1bbe591031"
      },
      "execution_count": 46,
      "outputs": [
        {
          "output_type": "stream",
          "name": "stdout",
          "text": [
            "Original DataFrames\n",
            "  student_id     name  marks\n",
            "0         s1   Dinesh    130\n",
            "1         s2   Mahesh    235\n",
            "2         s3   Suresh    324\n",
            "3         s4  kamlesh    250\n",
            "------------------------------\n",
            "  student_id      name  marks\n",
            "0         s3   Sulekha    201\n",
            "1         s4   sunetra    200\n",
            "2         s5  Priyanka    198\n",
            "3         s6    beauty    222\n",
            "\n",
            "Join the said two dataframes along rows:\n",
            "---------------------------------------------\n",
            "  student_id      name  marks\n",
            "0         s1    Dinesh    130\n",
            "1         s2    Mahesh    235\n",
            "2         s3    Suresh    324\n",
            "3         s4   kamlesh    250\n",
            "0         s3   Sulekha    201\n",
            "1         s4   sunetra    200\n",
            "2         s5  Priyanka    198\n",
            "3         s6    beauty    222\n"
          ]
        }
      ]
    },
    {
      "cell_type": "code",
      "source": [
        "# Q6 :  Write a pandas program to create a pivot table"
      ],
      "metadata": {
        "id": "joaBs_32liqU"
      },
      "execution_count": 47,
      "outputs": []
    },
    {
      "cell_type": "code",
      "source": [
        "import pandas as pd\n",
        "\n",
        "df = pd.DataFrame({'products':['Carrots','Broccoli','Banana','Beans', 'Orange','Broccoli','Banana'],\n",
        "                   'Category':['vegetables','vegetables','fruits','vegetables','fruits','vegetables','fruits'],\n",
        "                   'Quantity':[8,5,3,4,5,9,11],\n",
        "                   'Amount':[270,239,617,384,626,610,62]})\n",
        "df"
      ],
      "metadata": {
        "colab": {
          "base_uri": "https://localhost:8080/",
          "height": 269
        },
        "id": "L6tRXduHoJ1W",
        "outputId": "8e92f25a-d701-45c5-facd-16b7e7344b91"
      },
      "execution_count": 48,
      "outputs": [
        {
          "output_type": "execute_result",
          "data": {
            "text/plain": [
              "   products    Category  Quantity  Amount\n",
              "0   Carrots  vegetables         8     270\n",
              "1  Broccoli  vegetables         5     239\n",
              "2    Banana      fruits         3     617\n",
              "3     Beans  vegetables         4     384\n",
              "4    Orange      fruits         5     626\n",
              "5  Broccoli  vegetables         9     610\n",
              "6    Banana      fruits        11      62"
            ],
            "text/html": [
              "\n",
              "  <div id=\"df-4177bdfa-e045-4e9e-b6aa-00baf465a4f4\">\n",
              "    <div class=\"colab-df-container\">\n",
              "      <div>\n",
              "<style scoped>\n",
              "    .dataframe tbody tr th:only-of-type {\n",
              "        vertical-align: middle;\n",
              "    }\n",
              "\n",
              "    .dataframe tbody tr th {\n",
              "        vertical-align: top;\n",
              "    }\n",
              "\n",
              "    .dataframe thead th {\n",
              "        text-align: right;\n",
              "    }\n",
              "</style>\n",
              "<table border=\"1\" class=\"dataframe\">\n",
              "  <thead>\n",
              "    <tr style=\"text-align: right;\">\n",
              "      <th></th>\n",
              "      <th>products</th>\n",
              "      <th>Category</th>\n",
              "      <th>Quantity</th>\n",
              "      <th>Amount</th>\n",
              "    </tr>\n",
              "  </thead>\n",
              "  <tbody>\n",
              "    <tr>\n",
              "      <th>0</th>\n",
              "      <td>Carrots</td>\n",
              "      <td>vegetables</td>\n",
              "      <td>8</td>\n",
              "      <td>270</td>\n",
              "    </tr>\n",
              "    <tr>\n",
              "      <th>1</th>\n",
              "      <td>Broccoli</td>\n",
              "      <td>vegetables</td>\n",
              "      <td>5</td>\n",
              "      <td>239</td>\n",
              "    </tr>\n",
              "    <tr>\n",
              "      <th>2</th>\n",
              "      <td>Banana</td>\n",
              "      <td>fruits</td>\n",
              "      <td>3</td>\n",
              "      <td>617</td>\n",
              "    </tr>\n",
              "    <tr>\n",
              "      <th>3</th>\n",
              "      <td>Beans</td>\n",
              "      <td>vegetables</td>\n",
              "      <td>4</td>\n",
              "      <td>384</td>\n",
              "    </tr>\n",
              "    <tr>\n",
              "      <th>4</th>\n",
              "      <td>Orange</td>\n",
              "      <td>fruits</td>\n",
              "      <td>5</td>\n",
              "      <td>626</td>\n",
              "    </tr>\n",
              "    <tr>\n",
              "      <th>5</th>\n",
              "      <td>Broccoli</td>\n",
              "      <td>vegetables</td>\n",
              "      <td>9</td>\n",
              "      <td>610</td>\n",
              "    </tr>\n",
              "    <tr>\n",
              "      <th>6</th>\n",
              "      <td>Banana</td>\n",
              "      <td>fruits</td>\n",
              "      <td>11</td>\n",
              "      <td>62</td>\n",
              "    </tr>\n",
              "  </tbody>\n",
              "</table>\n",
              "</div>\n",
              "      <button class=\"colab-df-convert\" onclick=\"convertToInteractive('df-4177bdfa-e045-4e9e-b6aa-00baf465a4f4')\"\n",
              "              title=\"Convert this dataframe to an interactive table.\"\n",
              "              style=\"display:none;\">\n",
              "        \n",
              "  <svg xmlns=\"http://www.w3.org/2000/svg\" height=\"24px\"viewBox=\"0 0 24 24\"\n",
              "       width=\"24px\">\n",
              "    <path d=\"M0 0h24v24H0V0z\" fill=\"none\"/>\n",
              "    <path d=\"M18.56 5.44l.94 2.06.94-2.06 2.06-.94-2.06-.94-.94-2.06-.94 2.06-2.06.94zm-11 1L8.5 8.5l.94-2.06 2.06-.94-2.06-.94L8.5 2.5l-.94 2.06-2.06.94zm10 10l.94 2.06.94-2.06 2.06-.94-2.06-.94-.94-2.06-.94 2.06-2.06.94z\"/><path d=\"M17.41 7.96l-1.37-1.37c-.4-.4-.92-.59-1.43-.59-.52 0-1.04.2-1.43.59L10.3 9.45l-7.72 7.72c-.78.78-.78 2.05 0 2.83L4 21.41c.39.39.9.59 1.41.59.51 0 1.02-.2 1.41-.59l7.78-7.78 2.81-2.81c.8-.78.8-2.07 0-2.86zM5.41 20L4 18.59l7.72-7.72 1.47 1.35L5.41 20z\"/>\n",
              "  </svg>\n",
              "      </button>\n",
              "      \n",
              "  <style>\n",
              "    .colab-df-container {\n",
              "      display:flex;\n",
              "      flex-wrap:wrap;\n",
              "      gap: 12px;\n",
              "    }\n",
              "\n",
              "    .colab-df-convert {\n",
              "      background-color: #E8F0FE;\n",
              "      border: none;\n",
              "      border-radius: 50%;\n",
              "      cursor: pointer;\n",
              "      display: none;\n",
              "      fill: #1967D2;\n",
              "      height: 32px;\n",
              "      padding: 0 0 0 0;\n",
              "      width: 32px;\n",
              "    }\n",
              "\n",
              "    .colab-df-convert:hover {\n",
              "      background-color: #E2EBFA;\n",
              "      box-shadow: 0px 1px 2px rgba(60, 64, 67, 0.3), 0px 1px 3px 1px rgba(60, 64, 67, 0.15);\n",
              "      fill: #174EA6;\n",
              "    }\n",
              "\n",
              "    [theme=dark] .colab-df-convert {\n",
              "      background-color: #3B4455;\n",
              "      fill: #D2E3FC;\n",
              "    }\n",
              "\n",
              "    [theme=dark] .colab-df-convert:hover {\n",
              "      background-color: #434B5C;\n",
              "      box-shadow: 0px 1px 3px 1px rgba(0, 0, 0, 0.15);\n",
              "      filter: drop-shadow(0px 1px 2px rgba(0, 0, 0, 0.3));\n",
              "      fill: #FFFFFF;\n",
              "    }\n",
              "  </style>\n",
              "\n",
              "      <script>\n",
              "        const buttonEl =\n",
              "          document.querySelector('#df-4177bdfa-e045-4e9e-b6aa-00baf465a4f4 button.colab-df-convert');\n",
              "        buttonEl.style.display =\n",
              "          google.colab.kernel.accessAllowed ? 'block' : 'none';\n",
              "\n",
              "        async function convertToInteractive(key) {\n",
              "          const element = document.querySelector('#df-4177bdfa-e045-4e9e-b6aa-00baf465a4f4');\n",
              "          const dataTable =\n",
              "            await google.colab.kernel.invokeFunction('convertToInteractive',\n",
              "                                                     [key], {});\n",
              "          if (!dataTable) return;\n",
              "\n",
              "          const docLinkHtml = 'Like what you see? Visit the ' +\n",
              "            '<a target=\"_blank\" href=https://colab.research.google.com/notebooks/data_table.ipynb>data table notebook</a>'\n",
              "            + ' to learn more about interactive tables.';\n",
              "          element.innerHTML = '';\n",
              "          dataTable['output_type'] = 'display_data';\n",
              "          await google.colab.output.renderOutput(dataTable, element);\n",
              "          const docLink = document.createElement('div');\n",
              "          docLink.innerHTML = docLinkHtml;\n",
              "          element.appendChild(docLink);\n",
              "        }\n",
              "      </script>\n",
              "    </div>\n",
              "  </div>\n",
              "  "
            ]
          },
          "metadata": {},
          "execution_count": 48
        }
      ]
    },
    {
      "cell_type": "code",
      "source": [
        "# Get the total sales of each products\n",
        "\n",
        "pivot = df.pivot_table(index=['products'],\n",
        "                       values=['Amount'],\n",
        "                       aggfunc=['sum'])\n",
        "print(pivot)"
      ],
      "metadata": {
        "colab": {
          "base_uri": "https://localhost:8080/"
        },
        "id": "1rX_7Ec-qYF2",
        "outputId": "885fb58d-bd27-4860-ee73-e2c927ccafca"
      },
      "execution_count": 51,
      "outputs": [
        {
          "output_type": "stream",
          "name": "stdout",
          "text": [
            "            sum\n",
            "         Amount\n",
            "products       \n",
            "Banana      679\n",
            "Beans       384\n",
            "Broccoli    849\n",
            "Carrots     270\n",
            "Orange      626\n"
          ]
        }
      ]
    },
    {
      "cell_type": "code",
      "source": [
        "#Get the total sales of each category\n",
        "pivot = df.pivot_table(index=['Category'],\n",
        "                       values=['Amount'],\n",
        "                       aggfunc=['sum'])\n",
        "print(pivot)"
      ],
      "metadata": {
        "colab": {
          "base_uri": "https://localhost:8080/"
        },
        "id": "7M4zAX1OrCkF",
        "outputId": "e5d60b25-fc14-4986-d574-c5644aae1d40"
      },
      "execution_count": 52,
      "outputs": [
        {
          "output_type": "stream",
          "name": "stdout",
          "text": [
            "              sum\n",
            "           Amount\n",
            "Category         \n",
            "fruits       1305\n",
            "vegetables   1503\n"
          ]
        }
      ]
    },
    {
      "cell_type": "code",
      "source": [
        "#get the total sales of category and products both\n",
        "\n",
        "pivot = df.pivot_table(index=['products','Category'],\n",
        "                       values=['Amount'],\n",
        "                       aggfunc=['sum'])\n",
        "print(pivot)"
      ],
      "metadata": {
        "colab": {
          "base_uri": "https://localhost:8080/"
        },
        "id": "M4LPvEQmsmr6",
        "outputId": "edc2322c-1a1a-46ec-ecbb-d4d7d26763d9"
      },
      "execution_count": 56,
      "outputs": [
        {
          "output_type": "stream",
          "name": "stdout",
          "text": [
            "                       sum\n",
            "                    Amount\n",
            "products Category         \n",
            "Banana   fruits        679\n",
            "Beans    vegetables    384\n",
            "Broccoli vegetables    849\n",
            "Carrots  vegetables    270\n",
            "Orange   fruits        626\n"
          ]
        }
      ]
    },
    {
      "cell_type": "code",
      "source": [],
      "metadata": {
        "id": "EO9DyEwbtUBL"
      },
      "execution_count": null,
      "outputs": []
    },
    {
      "cell_type": "code",
      "source": [
        "#get the mean,median,minimum sale by category\n",
        "\n",
        "pivot = df.pivot_table(index=['Category'],\n",
        "                       values=['Amount'],\n",
        "                       aggfunc=['median','mean','min'])\n",
        "print(pivot)"
      ],
      "metadata": {
        "colab": {
          "base_uri": "https://localhost:8080/"
        },
        "outputId": "8e9eb0a8-448c-4e3e-a5a6-e20b96dfce3c",
        "id": "5qhyVwfOtvMP"
      },
      "execution_count": 58,
      "outputs": [
        {
          "output_type": "stream",
          "name": "stdout",
          "text": [
            "           median    mean    min\n",
            "           Amount  Amount Amount\n",
            "Category                        \n",
            "fruits        617  435.00     62\n",
            "vegetables    327  375.75    239\n"
          ]
        }
      ]
    },
    {
      "cell_type": "code",
      "source": [
        "# Q7 : Write a Pandas program to detect missing values of a DataFrame. Display True or False"
      ],
      "metadata": {
        "id": "mtfuH4oVuBy4"
      },
      "execution_count": null,
      "outputs": []
    },
    {
      "cell_type": "code",
      "source": [
        "import pandas as pd\n",
        "import numpy as np\n",
        "\n",
        "pd.set_option('display.max_rows', None)\n",
        "df = pd.DataFrame({'order_no':[7001,np.nan,7002,7004,np.nan,7005,np.nan,70010,7003,70012,np.nan,70013],\n",
        "                   'purchase_amt':[150.5,270.65,65.26,110.5,948.5,2400.6,5760,1983.43,2480.4,250.45, 75.29,3045.6],\n",
        "                   'order_date':['2012-10-05','2012-09-10',np.nan,'2012-08-17','2012-09-10','2012-07-27','2012-09-10','2012-10-10','2012-10-10','2012-06-27','2012-08-17','2012-04-25'],\n",
        "                   'customer_id':[3002,3001,3001,3003,3002,3001,3001,3004,3003,3002,3001,3001],\n",
        "                   'salesman_id':[5002,5003,5001,np.nan,5002,5001,5001,np.nan,5003,5002,5003,np.nan]})\n",
        "print(\"Original Orders DataFrame:\")\n",
        "print(df)\n",
        "print(\"---------------------------------------------------------------\")\n",
        "print(\"\\nMissing values of the said dataframe:\")\n",
        "print(df.isna())"
      ],
      "metadata": {
        "colab": {
          "base_uri": "https://localhost:8080/"
        },
        "id": "Do8QPK1ouUuT",
        "outputId": "c1ea8fe7-96c5-4db4-b50c-6aab5c7501d4"
      },
      "execution_count": 64,
      "outputs": [
        {
          "output_type": "stream",
          "name": "stdout",
          "text": [
            "Original Orders DataFrame:\n",
            "    order_no  purchase_amt  order_date  customer_id  salesman_id\n",
            "0     7001.0        150.50  2012-10-05         3002       5002.0\n",
            "1        NaN        270.65  2012-09-10         3001       5003.0\n",
            "2     7002.0         65.26         NaN         3001       5001.0\n",
            "3     7004.0        110.50  2012-08-17         3003          NaN\n",
            "4        NaN        948.50  2012-09-10         3002       5002.0\n",
            "5     7005.0       2400.60  2012-07-27         3001       5001.0\n",
            "6        NaN       5760.00  2012-09-10         3001       5001.0\n",
            "7    70010.0       1983.43  2012-10-10         3004          NaN\n",
            "8     7003.0       2480.40  2012-10-10         3003       5003.0\n",
            "9    70012.0        250.45  2012-06-27         3002       5002.0\n",
            "10       NaN         75.29  2012-08-17         3001       5003.0\n",
            "11   70013.0       3045.60  2012-04-25         3001          NaN\n",
            "---------------------------------------------------------------\n",
            "\n",
            "Missing values of the said dataframe:\n",
            "    order_no  purchase_amt  order_date  customer_id  salesman_id\n",
            "0      False         False       False        False        False\n",
            "1       True         False       False        False        False\n",
            "2      False         False        True        False        False\n",
            "3      False         False       False        False         True\n",
            "4       True         False       False        False        False\n",
            "5      False         False       False        False        False\n",
            "6       True         False       False        False        False\n",
            "7      False         False       False        False         True\n",
            "8      False         False       False        False        False\n",
            "9      False         False       False        False        False\n",
            "10      True         False       False        False        False\n",
            "11     False         False       False        False         True\n"
          ]
        }
      ]
    },
    {
      "cell_type": "code",
      "source": [
        "# Q8 : Write a Pandas program to count the number of missing values in each column"
      ],
      "metadata": {
        "id": "RDTq6Ehnxvfw"
      },
      "execution_count": 65,
      "outputs": []
    },
    {
      "cell_type": "code",
      "source": [
        "#Q9 : Write a Python program to find the maximum and minimum value of array"
      ],
      "metadata": {
        "id": "4JPd0oDnylLH"
      },
      "execution_count": 66,
      "outputs": []
    },
    {
      "cell_type": "code",
      "source": [
        "\n",
        "NumList = []\n",
        "Number = int(input(\"How many element in list, Please enter num :- \"))\n",
        "for i in range(1, Number + 1):\n",
        "    value = int(input(\"Please enter the Value of %d Element : \" %i))\n",
        "    NumList.append(value)\n",
        " \n",
        "smallest = largest = NumList[0]\n",
        " \n",
        "for j in range(1, Number):\n",
        "    if(smallest > NumList[j]):\n",
        "        smallest = NumList[j]\n",
        "        min_position = j\n",
        "    if(largest < NumList[j]):\n",
        "        largest = NumList[j]\n",
        "        max_position = j\n",
        " \n",
        "print(\"The Smallest Element in this List is : \", smallest)\n",
        "print(\"The Index position of Smallest Element in this List is : \", min_position)\n",
        " \n",
        "print(\"The Largest Element in this List is : \", largest)\n",
        "print(\"The Index position of Largest Element in this List is : \", max_position)\n"
      ],
      "metadata": {
        "colab": {
          "base_uri": "https://localhost:8080/"
        },
        "id": "3tM1McNwzGTf",
        "outputId": "121002b4-0d42-4bbb-c934-c077dee89f8c"
      },
      "execution_count": 68,
      "outputs": [
        {
          "output_type": "stream",
          "name": "stdout",
          "text": [
            "How many element in list, Please enter num :- 5\n",
            "Please enter the Value of 1 Element : 70\n",
            "Please enter the Value of 2 Element : 90\n",
            "Please enter the Value of 3 Element : 60\n",
            "Please enter the Value of 4 Element : 80\n",
            "Please enter the Value of 5 Element : 45\n",
            "The Smallest Element in this List is :  45\n",
            "The Index position of Smallest Element in this List is :  4\n",
            "The Largest Element in this List is :  90\n",
            "The Index position of Largest Element in this List is :  1\n"
          ]
        }
      ]
    },
    {
      "cell_type": "code",
      "source": [
        "# Q10 : Write a NumPy program to repeat all the elements three times of a given array of string['Pie' ,'pigeon' ,'Joker' ,'Cake']\n"
      ],
      "metadata": {
        "id": "SCM3oFkPz8ud"
      },
      "execution_count": null,
      "outputs": []
    },
    {
      "cell_type": "code",
      "source": [
        "import numpy as np\n",
        "x1 = np.array(['pie','pigeon','joker','cake'],dtype=np.str)\n",
        "print('Original array')\n",
        "print(x1)\n",
        "\n",
        "new_array = np.char.multiply(x1,3)\n",
        "print('New Array')\n",
        "print(new_array)"
      ],
      "metadata": {
        "colab": {
          "base_uri": "https://localhost:8080/"
        },
        "id": "J0XFixh61Whr",
        "outputId": "e99c8bc9-9d3f-4d71-84b1-0a3e4b89a415"
      },
      "execution_count": 70,
      "outputs": [
        {
          "output_type": "stream",
          "name": "stdout",
          "text": [
            "Original array\n",
            "['pie' 'pigeon' 'joker' 'cake']\n",
            "New Array\n",
            "['piepiepie' 'pigeonpigeonpigeon' 'jokerjokerjoker' 'cakecakecake']\n"
          ]
        },
        {
          "output_type": "stream",
          "name": "stderr",
          "text": [
            "<ipython-input-70-416d86f7b056>:2: DeprecationWarning: `np.str` is a deprecated alias for the builtin `str`. To silence this warning, use `str` by itself. Doing this will not modify any behavior and is safe. If you specifically wanted the numpy scalar type, use `np.str_` here.\n",
            "Deprecated in NumPy 1.20; for more details and guidance: https://numpy.org/devdocs/release/1.20.0-notes.html#deprecations\n",
            "  x1 = np.array(['pie','pigeon','joker','cake'],dtype=np.str)\n"
          ]
        }
      ]
    },
    {
      "cell_type": "code",
      "source": [],
      "metadata": {
        "id": "afaMIxci2H4O"
      },
      "execution_count": null,
      "outputs": []
    }
  ]
}