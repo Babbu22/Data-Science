{
 "cells": [
  {
   "cell_type": "markdown",
   "id": "57d4b8c1",
   "metadata": {},
   "source": [
    "## Name : Ishwer Kumar Yadav"
   ]
  },
  {
   "cell_type": "markdown",
   "id": "e431085f",
   "metadata": {},
   "source": [
    "## Assingment : 2"
   ]
  },
  {
   "cell_type": "markdown",
   "id": "d9fd0dcc",
   "metadata": {},
   "source": [
    "### NumPy Task"
   ]
  },
  {
   "cell_type": "markdown",
   "id": "162315f9",
   "metadata": {},
   "source": [
    "### Q1 : Create a 5x5 matrix with row values ranging from 0 to 4\n",
    "### Ans"
   ]
  },
  {
   "cell_type": "code",
   "execution_count": 2,
   "id": "83d0fd10",
   "metadata": {},
   "outputs": [
    {
     "name": "stdout",
     "output_type": "stream",
     "text": [
      "[[0, 0, 0, 0, 0], [0, 0, 0, 0, 0], [0, 0, 0, 0, 0], [0, 0, 0, 0, 0], [0, 0, 0, 0, 0], [1, 1, 1, 1, 1], [1, 1, 1, 1, 1], [1, 1, 1, 1, 1], [1, 1, 1, 1, 1], [1, 1, 1, 1, 1], [2, 2, 2, 2, 2], [2, 2, 2, 2, 2], [2, 2, 2, 2, 2], [2, 2, 2, 2, 2], [2, 2, 2, 2, 2], [3, 3, 3, 3, 3], [3, 3, 3, 3, 3], [3, 3, 3, 3, 3], [3, 3, 3, 3, 3], [3, 3, 3, 3, 3], [4, 4, 4, 4, 4], [4, 4, 4, 4, 4], [4, 4, 4, 4, 4], [4, 4, 4, 4, 4], [4, 4, 4, 4, 4]]\n"
     ]
    }
   ],
   "source": [
    "matrix = []\n",
    "for i in range(5):\n",
    "    row = []\n",
    "    for j in range(5):\n",
    "        row.append(i)\n",
    "        matrix.append(row)\n",
    "print(matrix)        "
   ]
  },
  {
   "cell_type": "markdown",
   "id": "06568ddf",
   "metadata": {},
   "source": [
    "### Alternatively, you could use a list comprehension to create the matrix in a single line of code:"
   ]
  },
  {
   "cell_type": "code",
   "execution_count": 5,
   "id": "06e231cb",
   "metadata": {},
   "outputs": [
    {
     "name": "stdout",
     "output_type": "stream",
     "text": [
      "[[0, 0, 0, 0, 0], [1, 1, 1, 1, 1], [2, 2, 2, 2, 2], [3, 3, 3, 3, 3], [4, 4, 4, 4, 4]]\n"
     ]
    }
   ],
   "source": [
    "matrix = [[i for j in range(5)] for i in range(5)]\n",
    "print(matrix)"
   ]
  },
  {
   "cell_type": "markdown",
   "id": "610e6654",
   "metadata": {},
   "source": [
    "### Q2 : Multiply a 5x3 matrix by a 3x2 matrix (real matrix product)\n",
    "### Ans    "
   ]
  },
  {
   "cell_type": "code",
   "execution_count": 2,
   "id": "feb3562d",
   "metadata": {},
   "outputs": [
    {
     "name": "stdout",
     "output_type": "stream",
     "text": [
      "[[2 2 2]\n",
      " [3 3 3]]\n"
     ]
    }
   ],
   "source": [
    "import numpy as np\n",
    "\n",
    "a = np.array([[1,1,1],[1,1,1]])\n",
    "b = np.array([2,3])\n",
    "\n",
    "res = np.multiply(a,b[:, None])\n",
    "\n",
    "print(res)"
   ]
  },
  {
   "cell_type": "markdown",
   "id": "4314f437",
   "metadata": {},
   "source": [
    "### Q3 : What is the result of the following expression?\n",
    "### Ans"
   ]
  },
  {
   "cell_type": "code",
   "execution_count": 4,
   "id": "76fea69e",
   "metadata": {},
   "outputs": [
    {
     "data": {
      "text/plain": [
       "nan"
      ]
     },
     "execution_count": 4,
     "metadata": {},
     "output_type": "execute_result"
    }
   ],
   "source": [
    "0 * np.nan"
   ]
  },
  {
   "cell_type": "code",
   "execution_count": 5,
   "id": "39bb50f6",
   "metadata": {},
   "outputs": [
    {
     "data": {
      "text/plain": [
       "False"
      ]
     },
     "execution_count": 5,
     "metadata": {},
     "output_type": "execute_result"
    }
   ],
   "source": [
    "np.nan == np.nan"
   ]
  },
  {
   "cell_type": "code",
   "execution_count": 6,
   "id": "1b3bf384",
   "metadata": {},
   "outputs": [
    {
     "data": {
      "text/plain": [
       "False"
      ]
     },
     "execution_count": 6,
     "metadata": {},
     "output_type": "execute_result"
    }
   ],
   "source": [
    "np.inf > np.nan"
   ]
  },
  {
   "cell_type": "code",
   "execution_count": 7,
   "id": "f6bfc671",
   "metadata": {},
   "outputs": [
    {
     "data": {
      "text/plain": [
       "nan"
      ]
     },
     "execution_count": 7,
     "metadata": {},
     "output_type": "execute_result"
    }
   ],
   "source": [
    "np.nan - np.nan"
   ]
  },
  {
   "cell_type": "code",
   "execution_count": 8,
   "id": "f28cfc00",
   "metadata": {},
   "outputs": [
    {
     "data": {
      "text/plain": [
       "True"
      ]
     },
     "execution_count": 8,
     "metadata": {},
     "output_type": "execute_result"
    }
   ],
   "source": [
    "np.nan in set([np.nan])"
   ]
  },
  {
   "cell_type": "code",
   "execution_count": 9,
   "id": "6bc3e4da",
   "metadata": {},
   "outputs": [
    {
     "data": {
      "text/plain": [
       "False"
      ]
     },
     "execution_count": 9,
     "metadata": {},
     "output_type": "execute_result"
    }
   ],
   "source": [
    "0.3 == 3 * 0.1"
   ]
  },
  {
   "cell_type": "markdown",
   "id": "23a30d87",
   "metadata": {},
   "source": [
    "### Q4 : Create a 10x10 array with random values and find the minimum and maximum values\n",
    "### Ans"
   ]
  },
  {
   "cell_type": "code",
   "execution_count": 17,
   "id": "6277c9f7",
   "metadata": {},
   "outputs": [
    {
     "name": "stdout",
     "output_type": "stream",
     "text": [
      "Original array:\n",
      "[[1.44856065e-01 5.74254940e-01 4.24138428e-01 3.35766078e-01\n",
      "  1.16293415e-01 8.57056323e-01 3.65166955e-01 8.61135609e-01\n",
      "  1.53637248e-01 4.65441499e-01]\n",
      " [3.01171949e-01 6.27645117e-01 4.30711155e-01 6.11216783e-02\n",
      "  6.37918769e-01 8.20761517e-01 6.79824669e-01 9.78091876e-01\n",
      "  4.59547861e-01 2.35828802e-01]\n",
      " [1.84173760e-02 1.02049320e-01 6.76291980e-01 9.86879648e-02\n",
      "  6.80073520e-01 1.94179159e-01 2.62623163e-01 3.20512205e-01\n",
      "  3.05008447e-02 5.39736512e-01]\n",
      " [1.10597087e-02 3.58581767e-01 7.91481110e-01 6.38409824e-01\n",
      "  8.42614655e-01 1.17869938e-01 1.48222195e-01 2.03736062e-02\n",
      "  4.45397744e-01 9.76156064e-01]\n",
      " [7.14590219e-01 3.49187527e-01 2.26751277e-01 7.73047272e-01\n",
      "  5.89807992e-01 9.60618964e-01 5.37327309e-01 5.30726824e-02\n",
      "  7.86146704e-02 6.78754979e-01]\n",
      " [8.54974547e-01 4.23162611e-01 5.31595187e-01 1.81750539e-01\n",
      "  6.66743755e-01 3.63089729e-01 1.40350768e-01 9.37980507e-04\n",
      "  8.41156034e-01 9.24485284e-01]\n",
      " [2.08414959e-01 2.04093766e-01 7.69784768e-01 7.45030949e-01\n",
      "  6.85652230e-01 9.15320555e-01 1.12736546e-01 9.82880659e-01\n",
      "  8.25495015e-01 1.67595605e-01]\n",
      " [3.76349020e-01 3.53014052e-02 1.36616110e-01 5.74793312e-01\n",
      "  9.54667426e-02 2.39329270e-01 4.55134923e-01 2.57158451e-01\n",
      "  7.47809382e-02 2.37485156e-02]\n",
      " [7.61299240e-01 9.87666722e-02 8.05350920e-01 9.36234073e-02\n",
      "  2.34207877e-01 9.90749566e-01 4.18967880e-01 1.62193598e-01\n",
      "  7.29441729e-01 3.17001531e-01]\n",
      " [1.14483136e-01 9.03058205e-02 6.24532883e-01 3.84110059e-01\n",
      "  4.84757832e-01 2.66373970e-01 2.30534158e-01 5.95672892e-01\n",
      "  6.24042956e-01 2.65301270e-01]]\n",
      "printing minimum value and maximum value\n",
      "0.00093798050698779 0.9907495662754089\n"
     ]
    }
   ],
   "source": [
    "import numpy as np\n",
    "\n",
    "x = np.random.random((10,10))\n",
    "print('Original array:')\n",
    "print(x)\n",
    "xmin , xmax = x.min(),x.max()\n",
    "print('printing minimum value and maximum value')\n",
    "print(xmin,xmax)"
   ]
  },
  {
   "cell_type": "markdown",
   "id": "47bc4ca5",
   "metadata": {},
   "source": [
    "### Q5 : Create a null vector of size 10 but the fifth value which is 1\n",
    "### Ans"
   ]
  },
  {
   "cell_type": "code",
   "execution_count": 21,
   "id": "6d59883d",
   "metadata": {},
   "outputs": [
    {
     "name": "stdout",
     "output_type": "stream",
     "text": [
      "[0. 0. 0. 0. 1. 0. 0. 0. 0. 0.]\n"
     ]
    }
   ],
   "source": [
    "import numpy as np\n",
    "\n",
    "null = np.zeros(10)\n",
    "null[4] = 1\n",
    "print(null)"
   ]
  },
  {
   "cell_type": "code",
   "execution_count": null,
   "id": "5d3eba63",
   "metadata": {},
   "outputs": [],
   "source": []
  }
 ],
 "metadata": {
  "kernelspec": {
   "display_name": "Python 3 (ipykernel)",
   "language": "python",
   "name": "python3"
  },
  "language_info": {
   "codemirror_mode": {
    "name": "ipython",
    "version": 3
   },
   "file_extension": ".py",
   "mimetype": "text/x-python",
   "name": "python",
   "nbconvert_exporter": "python",
   "pygments_lexer": "ipython3",
   "version": "3.9.13"
  }
 },
 "nbformat": 4,
 "nbformat_minor": 5
}
